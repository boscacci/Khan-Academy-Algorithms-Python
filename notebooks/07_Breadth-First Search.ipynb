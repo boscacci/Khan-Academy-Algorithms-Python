{
 "cells": [
  {
   "cell_type": "code",
   "execution_count": 47,
   "metadata": {
    "ExecuteTime": {
     "end_time": "2020-07-27T15:23:01.859188Z",
     "start_time": "2020-07-27T15:23:01.854464Z"
    }
   },
   "outputs": [],
   "source": [
    "from graphviz import Graph"
   ]
  },
  {
   "cell_type": "code",
   "execution_count": 48,
   "metadata": {
    "ExecuteTime": {
     "end_time": "2020-07-27T15:23:02.004793Z",
     "start_time": "2020-07-27T15:23:02.002336Z"
    }
   },
   "outputs": [],
   "source": [
    "# Adjacency list representation\n",
    "g = {\n",
    "        '1': ['2', '3', '4'],\n",
    "        '2': ['5', '6'],\n",
    "        '5': ['9', '10'],\n",
    "        '4': ['7', '8'],\n",
    "        '7': ['11', '12']\n",
    "    }"
   ]
  },
  {
   "cell_type": "code",
   "execution_count": 49,
   "metadata": {
    "ExecuteTime": {
     "end_time": "2020-07-27T15:23:29.576218Z",
     "start_time": "2020-07-27T15:23:29.574040Z"
    }
   },
   "outputs": [],
   "source": [
    "dot = Graph(comment='From Adj List')"
   ]
  },
  {
   "cell_type": "code",
   "execution_count": 50,
   "metadata": {
    "ExecuteTime": {
     "end_time": "2020-07-27T15:26:46.919554Z",
     "start_time": "2020-07-27T15:26:46.917187Z"
    }
   },
   "outputs": [],
   "source": [
    "for k in g:\n",
    "    dot.node(k)\n",
    "    for adj in g[k]:\n",
    "        dot.edge(k, adj)"
   ]
  },
  {
   "cell_type": "code",
   "execution_count": 51,
   "metadata": {
    "ExecuteTime": {
     "end_time": "2020-07-27T15:27:24.926623Z",
     "start_time": "2020-07-27T15:27:24.866071Z"
    }
   },
   "outputs": [
    {
     "data": {
      "text/plain": [
       "'Graph.gv.pdf'"
      ]
     },
     "execution_count": 51,
     "metadata": {},
     "output_type": "execute_result"
    }
   ],
   "source": [
    "dot.render(view=True)"
   ]
  },
  {
   "cell_type": "markdown",
   "metadata": {},
   "source": [
    "Basically, find the shortest path between x and y in a graph"
   ]
  },
  {
   "cell_type": "markdown",
   "metadata": {},
   "source": [
    "The following borrowed from https://stackoverflow.com/a/8922151/10449552"
   ]
  },
  {
   "cell_type": "markdown",
   "metadata": {},
   "source": [
    "* Start from given node value\n",
    "* Open a queue of nodes to while thru:\n",
    "* * If node == end then backtrace thru parents\n",
    "* * Else, add adjacent nodes to queue and record their common parent"
   ]
  },
  {
   "cell_type": "code",
   "execution_count": 57,
   "metadata": {
    "ExecuteTime": {
     "end_time": "2020-07-27T15:29:57.453198Z",
     "start_time": "2020-07-27T15:29:57.449234Z"
    }
   },
   "outputs": [],
   "source": [
    "def bfs(graph, start, end):\n",
    "    parent = dict()\n",
    "    queue = []\n",
    "    queue.append(start)\n",
    "\n",
    "    while queue:\n",
    "        node = queue.pop(0)\n",
    "        \n",
    "        if node == end: # Stopping condition\n",
    "            return backtrace(parent, start, end)\n",
    "        \n",
    "        if node not in queue:\n",
    "            for adjacent in graph.get(node, []):\n",
    "                parent[adjacent] = node # Record parent for each next step\n",
    "                queue.append(adjacent)\n",
    "                \n",
    "#         print(f\"Node: {node}; Queue: {queue}; Parent: {parent}\")\n",
    "        \n",
    "    return False"
   ]
  },
  {
   "cell_type": "code",
   "execution_count": 64,
   "metadata": {
    "ExecuteTime": {
     "end_time": "2020-07-27T15:29:56.911415Z",
     "start_time": "2020-07-27T15:29:56.908583Z"
    }
   },
   "outputs": [],
   "source": [
    "def backtrace(parent, start, end):\n",
    "    # By this point we know who everyone's parent is\n",
    "    path = [end]\n",
    "    while path[0] != start:\n",
    "        path.insert(0, parent[path[0]])\n",
    "    return path"
   ]
  },
  {
   "cell_type": "code",
   "execution_count": 67,
   "metadata": {
    "ExecuteTime": {
     "end_time": "2020-07-27T15:30:07.712939Z",
     "start_time": "2020-07-27T15:30:07.709607Z"
    }
   },
   "outputs": [
    {
     "data": {
      "text/plain": [
       "['1', '4', '7', '11']"
      ]
     },
     "execution_count": 67,
     "metadata": {},
     "output_type": "execute_result"
    }
   ],
   "source": [
    "bfs(g, '1', '11')"
   ]
  },
  {
   "cell_type": "code",
   "execution_count": null,
   "metadata": {},
   "outputs": [],
   "source": []
  }
 ],
 "metadata": {
  "kernelspec": {
   "display_name": "Python 3",
   "language": "python",
   "name": "python3"
  },
  "language_info": {
   "codemirror_mode": {
    "name": "ipython",
    "version": 3
   },
   "file_extension": ".py",
   "mimetype": "text/x-python",
   "name": "python",
   "nbconvert_exporter": "python",
   "pygments_lexer": "ipython3",
   "version": "3.8.0"
  },
  "toc": {
   "base_numbering": 1,
   "nav_menu": {},
   "number_sections": true,
   "sideBar": true,
   "skip_h1_title": false,
   "title_cell": "Table of Contents",
   "title_sidebar": "Contents",
   "toc_cell": false,
   "toc_position": {},
   "toc_section_display": true,
   "toc_window_display": false
  },
  "varInspector": {
   "cols": {
    "lenName": 16,
    "lenType": 16,
    "lenVar": 40
   },
   "kernels_config": {
    "python": {
     "delete_cmd_postfix": "",
     "delete_cmd_prefix": "del ",
     "library": "var_list.py",
     "varRefreshCmd": "print(var_dic_list())"
    },
    "r": {
     "delete_cmd_postfix": ") ",
     "delete_cmd_prefix": "rm(",
     "library": "var_list.r",
     "varRefreshCmd": "cat(var_dic_list()) "
    }
   },
   "types_to_exclude": [
    "module",
    "function",
    "builtin_function_or_method",
    "instance",
    "_Feature"
   ],
   "window_display": false
  }
 },
 "nbformat": 4,
 "nbformat_minor": 4
}
