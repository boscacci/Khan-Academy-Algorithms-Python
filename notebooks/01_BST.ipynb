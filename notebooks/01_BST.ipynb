{
 "cells": [
  {
   "cell_type": "code",
   "execution_count": 1,
   "metadata": {
    "ExecuteTime": {
     "end_time": "2020-07-23T19:42:33.060373Z",
     "start_time": "2020-07-23T19:42:33.057806Z"
    }
   },
   "outputs": [],
   "source": [
    "primes = [41, 43, 47, 53, 59, 61, 67, 71, 73, 79, 83, 89, 97]"
   ]
  },
  {
   "cell_type": "code",
   "execution_count": 2,
   "metadata": {
    "ExecuteTime": {
     "end_time": "2020-07-23T19:42:33.255869Z",
     "start_time": "2020-07-23T19:42:33.253066Z"
    }
   },
   "outputs": [],
   "source": [
    "def get_idx(val, arr):\n",
    "    \"\"\"\n",
    "    * Constrain to low and high indices\n",
    "    * Check middle value\n",
    "    * if low >= hi: False\n",
    "    * Split tree in half recursively\n",
    "    \"\"\"\n",
    "    return get_idx_recur(val, arr, low = 0, hi = len(arr)-1)"
   ]
  },
  {
   "cell_type": "code",
   "execution_count": 3,
   "metadata": {
    "ExecuteTime": {
     "end_time": "2020-07-23T19:42:33.406831Z",
     "start_time": "2020-07-23T19:42:33.403056Z"
    }
   },
   "outputs": [],
   "source": [
    "def get_idx_recur(val, arr, low, hi):\n",
    "    \n",
    "    mid_idx = (low+hi)//2\n",
    "    guess = arr[mid_idx]\n",
    "    \n",
    "    print()\n",
    "    print(f\"sub: {arr[low:hi]}; guess: {guess};\")\n",
    "    print(f\"low: {low}; hi: {hi}\")\n",
    "    \n",
    "    if val == guess:\n",
    "        # Foumd\n",
    "        return mid_idx\n",
    "    \n",
    "    elif low >= hi:\n",
    "        # Indices have converged but no result. Abort\n",
    "        return False\n",
    "    \n",
    "    elif guess > val:\n",
    "        # Guessed too high\n",
    "        return get_idx_recur(val, arr, low, mid_idx-1)\n",
    "    \n",
    "    elif guess < val:\n",
    "        # Guessed too low\n",
    "        return get_idx_recur(val, arr, mid_idx+1, hi)"
   ]
  },
  {
   "cell_type": "code",
   "execution_count": 5,
   "metadata": {
    "ExecuteTime": {
     "end_time": "2020-07-23T19:43:15.258740Z",
     "start_time": "2020-07-23T19:43:15.253944Z"
    }
   },
   "outputs": [
    {
     "name": "stdout",
     "output_type": "stream",
     "text": [
      "\n",
      "sub: [41, 43, 47, 53, 59, 61, 67, 71, 73, 79, 83, 89]; guess: 67;\n",
      "low: 0; hi: 12\n",
      "\n",
      "sub: [71, 73, 79, 83, 89]; guess: 79;\n",
      "low: 7; hi: 12\n",
      "\n",
      "sub: [83, 89]; guess: 89;\n",
      "low: 10; hi: 12\n",
      "\n",
      "sub: []; guess: 83;\n",
      "low: 10; hi: 10\n"
     ]
    },
    {
     "data": {
      "text/plain": [
       "10"
      ]
     },
     "execution_count": 5,
     "metadata": {},
     "output_type": "execute_result"
    }
   ],
   "source": [
    "get_idx(83, primes)"
   ]
  },
  {
   "cell_type": "code",
   "execution_count": null,
   "metadata": {},
   "outputs": [],
   "source": []
  }
 ],
 "metadata": {
  "kernelspec": {
   "display_name": "Python 3",
   "language": "python",
   "name": "python3"
  },
  "language_info": {
   "codemirror_mode": {
    "name": "ipython",
    "version": 3
   },
   "file_extension": ".py",
   "mimetype": "text/x-python",
   "name": "python",
   "nbconvert_exporter": "python",
   "pygments_lexer": "ipython3",
   "version": "3.7.7"
  },
  "toc": {
   "base_numbering": 1,
   "nav_menu": {},
   "number_sections": true,
   "sideBar": true,
   "skip_h1_title": false,
   "title_cell": "Table of Contents",
   "title_sidebar": "Contents",
   "toc_cell": false,
   "toc_position": {},
   "toc_section_display": true,
   "toc_window_display": false
  },
  "varInspector": {
   "cols": {
    "lenName": 16,
    "lenType": 16,
    "lenVar": 40
   },
   "kernels_config": {
    "python": {
     "delete_cmd_postfix": "",
     "delete_cmd_prefix": "del ",
     "library": "var_list.py",
     "varRefreshCmd": "print(var_dic_list())"
    },
    "r": {
     "delete_cmd_postfix": ") ",
     "delete_cmd_prefix": "rm(",
     "library": "var_list.r",
     "varRefreshCmd": "cat(var_dic_list()) "
    }
   },
   "types_to_exclude": [
    "module",
    "function",
    "builtin_function_or_method",
    "instance",
    "_Feature"
   ],
   "window_display": false
  }
 },
 "nbformat": 4,
 "nbformat_minor": 4
}
