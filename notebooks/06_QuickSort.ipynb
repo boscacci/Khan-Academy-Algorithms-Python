{
 "cells": [
  {
   "cell_type": "code",
   "execution_count": 12,
   "metadata": {
    "ExecuteTime": {
     "end_time": "2020-07-23T21:21:54.448300Z",
     "start_time": "2020-07-23T21:21:54.446058Z"
    }
   },
   "outputs": [],
   "source": [
    "def quicksort(arr):\n",
    "    quick_recu(arr, p = 0, r = len(arr)-1)\n",
    "    return arr"
   ]
  },
  {
   "cell_type": "markdown",
   "metadata": {},
   "source": [
    "We conceptually split the array into 4 partitions:"
   ]
  },
  {
   "cell_type": "markdown",
   "metadata": {},
   "source": [
    "less_than_piv | greater_than_piv | unsorted | pivot"
   ]
  },
  {
   "cell_type": "code",
   "execution_count": 14,
   "metadata": {},
   "outputs": [],
   "source": [
    "# p | q | j | r"
   ]
  },
  {
   "cell_type": "code",
   "execution_count": 19,
   "metadata": {},
   "outputs": [],
   "source": [
    "# Partitions p and q start empty"
   ]
  },
  {
   "cell_type": "code",
   "execution_count": 15,
   "metadata": {
    "ExecuteTime": {
     "end_time": "2020-07-23T21:21:54.613738Z",
     "start_time": "2020-07-23T21:21:54.611112Z"
    }
   },
   "outputs": [],
   "source": [
    "def quick_recu(arr, p, r):\n",
    "    # If p >= r, we've exhaused the unsorted partition and are done\n",
    "    if p < r:\n",
    "        \n",
    "        # Partition to provide a new q index\n",
    "        q = partition(arr, p, r)\n",
    "        \n",
    "        # Recursively quicksort on both sides of that q index\n",
    "        quick_recu(arr, p, q-1)\n",
    "        quick_recu(arr, q+1, r)"
   ]
  },
  {
   "cell_type": "code",
   "execution_count": 16,
   "metadata": {
    "ExecuteTime": {
     "end_time": "2020-07-23T21:21:54.884066Z",
     "start_time": "2020-07-23T21:21:54.880846Z"
    }
   },
   "outputs": [],
   "source": [
    "def partition(arr, p, r):\n",
    "    q = p\n",
    "    # We will just use tail element as pivot\n",
    "    piv = arr[r]\n",
    "    for j in range(p, r):\n",
    "        if arr[j] < piv:\n",
    "            arr[q], arr[j] = arr[j], arr[q]\n",
    "            q += 1\n",
    "    arr[q], arr[r] = arr[r], arr[q]\n",
    "    return q"
   ]
  },
  {
   "cell_type": "code",
   "execution_count": 17,
   "metadata": {},
   "outputs": [],
   "source": [
    "nums = [1,5,8,-5,3,-2,12,50]"
   ]
  },
  {
   "cell_type": "code",
   "execution_count": 18,
   "metadata": {},
   "outputs": [
    {
     "data": {
      "text/plain": [
       "[-5, -2, 1, 3, 5, 8, 12, 50]"
      ]
     },
     "execution_count": 18,
     "metadata": {},
     "output_type": "execute_result"
    }
   ],
   "source": [
    "quicksort(nums)"
   ]
  },
  {
   "cell_type": "code",
   "execution_count": null,
   "metadata": {},
   "outputs": [],
   "source": []
  },
  {
   "cell_type": "markdown",
   "metadata": {},
   "source": [
    "![Merge_Sort](merge_sort.png)"
   ]
  }
 ],
 "metadata": {
  "kernelspec": {
   "display_name": "Python 3",
   "language": "python",
   "name": "python3"
  },
  "language_info": {
   "codemirror_mode": {
    "name": "ipython",
    "version": 3
   },
   "file_extension": ".py",
   "mimetype": "text/x-python",
   "name": "python",
   "nbconvert_exporter": "python",
   "pygments_lexer": "ipython3",
   "version": "3.7.7"
  },
  "toc": {
   "base_numbering": 1,
   "nav_menu": {},
   "number_sections": true,
   "sideBar": true,
   "skip_h1_title": false,
   "title_cell": "Table of Contents",
   "title_sidebar": "Contents",
   "toc_cell": false,
   "toc_position": {},
   "toc_section_display": true,
   "toc_window_display": false
  },
  "varInspector": {
   "cols": {
    "lenName": 16,
    "lenType": 16,
    "lenVar": 40
   },
   "kernels_config": {
    "python": {
     "delete_cmd_postfix": "",
     "delete_cmd_prefix": "del ",
     "library": "var_list.py",
     "varRefreshCmd": "print(var_dic_list())"
    },
    "r": {
     "delete_cmd_postfix": ") ",
     "delete_cmd_prefix": "rm(",
     "library": "var_list.r",
     "varRefreshCmd": "cat(var_dic_list()) "
    }
   },
   "types_to_exclude": [
    "module",
    "function",
    "builtin_function_or_method",
    "instance",
    "_Feature"
   ],
   "window_display": false
  }
 },
 "nbformat": 4,
 "nbformat_minor": 4
}
