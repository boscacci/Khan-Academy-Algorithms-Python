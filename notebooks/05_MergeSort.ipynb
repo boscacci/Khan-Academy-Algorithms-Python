{
 "cells": [
  {
   "cell_type": "code",
   "execution_count": 1,
   "metadata": {
    "ExecuteTime": {
     "end_time": "2020-07-23T22:37:34.902542Z",
     "start_time": "2020-07-23T22:37:34.899246Z"
    }
   },
   "outputs": [],
   "source": [
    "def merge_sort(arr):\n",
    "    \"\"\"\n",
    "    * Divide and conquer.\n",
    "    \"\"\"\n",
    "    # \"Base case\":\n",
    "    n = len(arr)\n",
    "    if n < 2:\n",
    "        # Reached a leaf node. Go back up the call stack for merging\n",
    "        # No need to return anything; we're editing mutable arrays inplace\n",
    "        return\n",
    "    \n",
    "    # Otherwise, divide into branched subarrays...\n",
    "    mid_idx = n//2\n",
    "    left = arr[:mid_idx]\n",
    "    right = arr[mid_idx:]\n",
    "    \n",
    "    # Recurse. These calls will start coming back at leaf nodes\n",
    "    merge_sort(left), merge_sort(right)\n",
    "    \n",
    "    # Zip back together; this is where actual sorting happens\n",
    "    print(f\"subarrs to merge: {left}, {right}\")\n",
    "    merge(left, right, arr)\n",
    "    \n",
    "    # Now this (original or sub) array is sorted.\n",
    "    return arr"
   ]
  },
  {
   "cell_type": "code",
   "execution_count": 2,
   "metadata": {
    "ExecuteTime": {
     "end_time": "2020-07-23T22:37:35.098259Z",
     "start_time": "2020-07-23T22:37:35.094874Z"
    }
   },
   "outputs": [],
   "source": [
    "def merge(L, R, arr):\n",
    "    \"\"\"\n",
    "    * Next smallest item is always at head of either left or right pre-sorted subarray\n",
    "    * If one side is exhausted early, just tack on the rest of the other\n",
    "    \"\"\"\n",
    "    q = 0\n",
    "    \n",
    "    while (L and R):\n",
    "        # Choose the smaller of the two items at heads of L and R\n",
    "        arr[q] = L.pop(0) if (L[0] < R[0]) else R.pop(0)\n",
    "        q += 1\n",
    "    \n",
    "    # Address any excess if one side was longer\n",
    "    for leftovers in (L, R):\n",
    "        while leftovers:\n",
    "            arr[q] = leftovers.pop(0)\n",
    "            q += 1"
   ]
  },
  {
   "cell_type": "code",
   "execution_count": 3,
   "metadata": {
    "ExecuteTime": {
     "end_time": "2020-07-23T22:37:35.246486Z",
     "start_time": "2020-07-23T22:37:35.244159Z"
    }
   },
   "outputs": [],
   "source": [
    "nums = [3,2,-12,1,-5,56,32,56,67,78,-12,-32]"
   ]
  },
  {
   "cell_type": "code",
   "execution_count": 4,
   "metadata": {
    "ExecuteTime": {
     "end_time": "2020-07-23T22:37:35.442314Z",
     "start_time": "2020-07-23T22:37:35.439174Z"
    }
   },
   "outputs": [
    {
     "name": "stdout",
     "output_type": "stream",
     "text": [
      "subarrs to merge: [2], [-12]\n",
      "subarrs to merge: [3], [-12, 2]\n",
      "subarrs to merge: [-5], [56]\n",
      "subarrs to merge: [1], [-5, 56]\n",
      "subarrs to merge: [-12, 2, 3], [-5, 1, 56]\n",
      "subarrs to merge: [56], [67]\n",
      "subarrs to merge: [32], [56, 67]\n",
      "subarrs to merge: [-12], [-32]\n",
      "subarrs to merge: [78], [-32, -12]\n",
      "subarrs to merge: [32, 56, 67], [-32, -12, 78]\n",
      "subarrs to merge: [-12, -5, 1, 2, 3, 56], [-32, -12, 32, 56, 67, 78]\n"
     ]
    },
    {
     "data": {
      "text/plain": [
       "[-32, -12, -12, -5, 1, 2, 3, 32, 56, 56, 67, 78]"
      ]
     },
     "execution_count": 4,
     "metadata": {},
     "output_type": "execute_result"
    }
   ],
   "source": [
    "merge_sort(nums)"
   ]
  },
  {
   "cell_type": "code",
   "execution_count": null,
   "metadata": {},
   "outputs": [],
   "source": []
  }
 ],
 "metadata": {
  "kernelspec": {
   "display_name": "Python 3",
   "language": "python",
   "name": "python3"
  },
  "language_info": {
   "codemirror_mode": {
    "name": "ipython",
    "version": 3
   },
   "file_extension": ".py",
   "mimetype": "text/x-python",
   "name": "python",
   "nbconvert_exporter": "python",
   "pygments_lexer": "ipython3",
   "version": "3.7.7"
  },
  "toc": {
   "base_numbering": 1,
   "nav_menu": {},
   "number_sections": true,
   "sideBar": true,
   "skip_h1_title": false,
   "title_cell": "Table of Contents",
   "title_sidebar": "Contents",
   "toc_cell": false,
   "toc_position": {},
   "toc_section_display": true,
   "toc_window_display": false
  },
  "varInspector": {
   "cols": {
    "lenName": 16,
    "lenType": 16,
    "lenVar": 40
   },
   "kernels_config": {
    "python": {
     "delete_cmd_postfix": "",
     "delete_cmd_prefix": "del ",
     "library": "var_list.py",
     "varRefreshCmd": "print(var_dic_list())"
    },
    "r": {
     "delete_cmd_postfix": ") ",
     "delete_cmd_prefix": "rm(",
     "library": "var_list.r",
     "varRefreshCmd": "cat(var_dic_list()) "
    }
   },
   "types_to_exclude": [
    "module",
    "function",
    "builtin_function_or_method",
    "instance",
    "_Feature"
   ],
   "window_display": false
  }
 },
 "nbformat": 4,
 "nbformat_minor": 4
}
