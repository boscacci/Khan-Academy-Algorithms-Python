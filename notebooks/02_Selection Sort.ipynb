{
 "cells": [
  {
   "cell_type": "code",
   "execution_count": 9,
   "metadata": {
    "ExecuteTime": {
     "end_time": "2020-07-23T17:01:01.064557Z",
     "start_time": "2020-07-23T17:01:01.062279Z"
    }
   },
   "outputs": [],
   "source": [
    "nums = [6,4,3,7,8,-1,-45,50,2]"
   ]
  },
  {
   "cell_type": "code",
   "execution_count": 13,
   "metadata": {
    "ExecuteTime": {
     "end_time": "2020-07-23T16:57:08.005081Z",
     "start_time": "2020-07-23T16:57:08.002538Z"
    }
   },
   "outputs": [],
   "source": [
    "def sel_sort(arr):\n",
    "    \"\"\"\n",
    "    For each position i of arr,\n",
    "        Go find smallest value in arr[i:]\n",
    "        Swap it into i and continue\n",
    "    \"\"\"\n",
    "    for i in range(len(arr)):\n",
    "        # Go find smallest index in unsorted partition\n",
    "        smol_idx = find_smol_idx(arr = arr[i:], current_idx = i)\n",
    "        arr[i], arr[smol_idx] = arr[smol_idx], arr[i]\n",
    "    return arr"
   ]
  },
  {
   "cell_type": "code",
   "execution_count": 14,
   "metadata": {
    "ExecuteTime": {
     "end_time": "2020-07-23T17:00:58.620226Z",
     "start_time": "2020-07-23T17:00:58.617485Z"
    }
   },
   "outputs": [],
   "source": [
    "def find_smol_idx(arr, current_idx):\n",
    "    smol_idx = 0\n",
    "    for j in range(len(arr)):\n",
    "        if arr[j] <= arr[smol_idx]:\n",
    "            smol_idx = j\n",
    "    return smol_idx + current_idx"
   ]
  },
  {
   "cell_type": "code",
   "execution_count": 15,
   "metadata": {
    "ExecuteTime": {
     "end_time": "2020-07-23T16:43:00.181737Z",
     "start_time": "2020-07-23T16:43:00.178692Z"
    }
   },
   "outputs": [
    {
     "data": {
      "text/plain": [
       "[-45, -1, 2, 3, 4, 6, 7, 8, 50]"
      ]
     },
     "execution_count": 15,
     "metadata": {},
     "output_type": "execute_result"
    }
   ],
   "source": [
    "sel_sort(nums)"
   ]
  },
  {
   "cell_type": "code",
   "execution_count": null,
   "metadata": {},
   "outputs": [],
   "source": []
  }
 ],
 "metadata": {
  "kernelspec": {
   "display_name": "Python 3",
   "language": "python",
   "name": "python3"
  },
  "language_info": {
   "codemirror_mode": {
    "name": "ipython",
    "version": 3
   },
   "file_extension": ".py",
   "mimetype": "text/x-python",
   "name": "python",
   "nbconvert_exporter": "python",
   "pygments_lexer": "ipython3",
   "version": "3.7.7"
  },
  "toc": {
   "base_numbering": 1,
   "nav_menu": {},
   "number_sections": true,
   "sideBar": true,
   "skip_h1_title": false,
   "title_cell": "Table of Contents",
   "title_sidebar": "Contents",
   "toc_cell": false,
   "toc_position": {},
   "toc_section_display": true,
   "toc_window_display": false
  },
  "varInspector": {
   "cols": {
    "lenName": 16,
    "lenType": 16,
    "lenVar": 40
   },
   "kernels_config": {
    "python": {
     "delete_cmd_postfix": "",
     "delete_cmd_prefix": "del ",
     "library": "var_list.py",
     "varRefreshCmd": "print(var_dic_list())"
    },
    "r": {
     "delete_cmd_postfix": ") ",
     "delete_cmd_prefix": "rm(",
     "library": "var_list.r",
     "varRefreshCmd": "cat(var_dic_list()) "
    }
   },
   "types_to_exclude": [
    "module",
    "function",
    "builtin_function_or_method",
    "instance",
    "_Feature"
   ],
   "window_display": false
  }
 },
 "nbformat": 4,
 "nbformat_minor": 4
}
