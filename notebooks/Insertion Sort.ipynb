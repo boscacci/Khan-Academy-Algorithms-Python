{
 "cells": [
  {
   "cell_type": "code",
   "execution_count": 80,
   "metadata": {
    "ExecuteTime": {
     "end_time": "2020-07-23T19:29:39.743450Z",
     "start_time": "2020-07-23T19:29:39.741046Z"
    }
   },
   "outputs": [],
   "source": [
    "nums = [1,5,8,-5,3,-2,12,50]"
   ]
  },
  {
   "cell_type": "code",
   "execution_count": 81,
   "metadata": {
    "ExecuteTime": {
     "end_time": "2020-07-23T19:29:39.923336Z",
     "start_time": "2020-07-23T19:29:39.920192Z"
    }
   },
   "outputs": [],
   "source": [
    "def insert_sort(arr):\n",
    "    sor = [arr.pop(0)]\n",
    "    while arr:\n",
    "        low_idx = 0\n",
    "        key = arr.pop()\n",
    "        for i in range(len(sor)-1, -1, -1):\n",
    "            if key >= sor[i]:\n",
    "                low_idx = i\n",
    "                break\n",
    "        sor.insert(low_idx, key)\n",
    "    return sor"
   ]
  },
  {
   "cell_type": "code",
   "execution_count": 82,
   "metadata": {
    "ExecuteTime": {
     "end_time": "2020-07-23T19:29:40.208278Z",
     "start_time": "2020-07-23T19:29:40.205078Z"
    }
   },
   "outputs": [
    {
     "data": {
      "text/plain": [
       "[-5, -2, 50, 12, 3, 8, 5, 1]"
      ]
     },
     "execution_count": 82,
     "metadata": {},
     "output_type": "execute_result"
    }
   ],
   "source": [
    "insert_sort(nums)"
   ]
  },
  {
   "cell_type": "code",
   "execution_count": null,
   "metadata": {},
   "outputs": [],
   "source": []
  }
 ],
 "metadata": {
  "kernelspec": {
   "display_name": "Python 3",
   "language": "python",
   "name": "python3"
  },
  "language_info": {
   "codemirror_mode": {
    "name": "ipython",
    "version": 3
   },
   "file_extension": ".py",
   "mimetype": "text/x-python",
   "name": "python",
   "nbconvert_exporter": "python",
   "pygments_lexer": "ipython3",
   "version": "3.8.2"
  },
  "toc": {
   "base_numbering": 1,
   "nav_menu": {},
   "number_sections": true,
   "sideBar": true,
   "skip_h1_title": false,
   "title_cell": "Table of Contents",
   "title_sidebar": "Contents",
   "toc_cell": false,
   "toc_position": {},
   "toc_section_display": true,
   "toc_window_display": false
  },
  "varInspector": {
   "cols": {
    "lenName": 16,
    "lenType": 16,
    "lenVar": 40
   },
   "kernels_config": {
    "python": {
     "delete_cmd_postfix": "",
     "delete_cmd_prefix": "del ",
     "library": "var_list.py",
     "varRefreshCmd": "print(var_dic_list())"
    },
    "r": {
     "delete_cmd_postfix": ") ",
     "delete_cmd_prefix": "rm(",
     "library": "var_list.r",
     "varRefreshCmd": "cat(var_dic_list()) "
    }
   },
   "types_to_exclude": [
    "module",
    "function",
    "builtin_function_or_method",
    "instance",
    "_Feature"
   ],
   "window_display": false
  }
 },
 "nbformat": 4,
 "nbformat_minor": 4
}
